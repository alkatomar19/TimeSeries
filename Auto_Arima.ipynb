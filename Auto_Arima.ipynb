{
 "cells": [
  {
   "cell_type": "markdown",
   "id": "6628856e",
   "metadata": {},
   "source": [
    "### TIME SERIES FORECASTING -- AUTO ARIMA"
   ]
  },
  {
   "cell_type": "code",
   "execution_count": 1,
   "id": "e69afad7",
   "metadata": {},
   "outputs": [],
   "source": [
    "#Import the required libraries\n",
    "\n",
    "import pandas as pd\n",
    "import numpy as np\n",
    "import matplotlib.pyplot as plt\n",
    "get_ipython().run_line_magic('matplotlib', 'inline')\n",
    "import warnings\n",
    "warnings.filterwarnings('ignore')\n",
    "\n",
    "# Import auto_arima \n",
    "from pmdarima.arima import auto_arima\n",
    "\n",
    "#or\n",
    "import pmdarima as pm\n",
    "\n",
    "#auto_arima() uses a stepwise approach to search multiple combinations of p,d,q parameters and chooses the best model \n",
    "#that has the least AIC."
   ]
  },
  {
   "cell_type": "markdown",
   "id": "70b5ff98",
   "metadata": {},
   "source": [
    "Let's do some data exploration a.k.a. EDA(Exploratory Data Analysis)"
   ]
  },
  {
   "cell_type": "code",
   "execution_count": 3,
   "id": "9a0512d7",
   "metadata": {},
   "outputs": [],
   "source": [
    "#Read the sales dataset\n",
    "df = pd.read_csv(\"Champagne Sales.csv\")"
   ]
  },
  {
   "cell_type": "code",
   "execution_count": 4,
   "id": "6b67d396",
   "metadata": {},
   "outputs": [
    {
     "data": {
      "text/plain": [
       "(105, 2)"
      ]
     },
     "execution_count": 4,
     "metadata": {},
     "output_type": "execute_result"
    }
   ],
   "source": [
    "#Some general information over shape/dimensions of data\n",
    "df.shape"
   ]
  },
  {
   "cell_type": "code",
   "execution_count": 5,
   "id": "14359c2f",
   "metadata": {},
   "outputs": [
    {
     "name": "stdout",
     "output_type": "stream",
     "text": [
      "<class 'pandas.core.frame.DataFrame'>\n",
      "RangeIndex: 105 entries, 0 to 104\n",
      "Data columns (total 2 columns):\n",
      " #   Column           Non-Null Count  Dtype \n",
      "---  ------           --------------  ----- \n",
      " 0   Month            105 non-null    object\n",
      " 1   Champagne sales  105 non-null    int64 \n",
      "dtypes: int64(1), object(1)\n",
      "memory usage: 1.8+ KB\n"
     ]
    }
   ],
   "source": [
    "df.info()"
   ]
  },
  {
   "cell_type": "code",
   "execution_count": 20,
   "id": "b015b5f2",
   "metadata": {},
   "outputs": [
    {
     "data": {
      "text/html": [
       "<div>\n",
       "<style scoped>\n",
       "    .dataframe tbody tr th:only-of-type {\n",
       "        vertical-align: middle;\n",
       "    }\n",
       "\n",
       "    .dataframe tbody tr th {\n",
       "        vertical-align: top;\n",
       "    }\n",
       "\n",
       "    .dataframe thead th {\n",
       "        text-align: right;\n",
       "    }\n",
       "</style>\n",
       "<table border=\"1\" class=\"dataframe\">\n",
       "  <thead>\n",
       "    <tr style=\"text-align: right;\">\n",
       "      <th></th>\n",
       "      <th>Month</th>\n",
       "      <th>Champagne sales</th>\n",
       "    </tr>\n",
       "  </thead>\n",
       "  <tbody>\n",
       "    <tr>\n",
       "      <th>0</th>\n",
       "      <td>1964-01</td>\n",
       "      <td>2815</td>\n",
       "    </tr>\n",
       "    <tr>\n",
       "      <th>1</th>\n",
       "      <td>1964-02</td>\n",
       "      <td>2672</td>\n",
       "    </tr>\n",
       "    <tr>\n",
       "      <th>2</th>\n",
       "      <td>1964-03</td>\n",
       "      <td>2755</td>\n",
       "    </tr>\n",
       "    <tr>\n",
       "      <th>3</th>\n",
       "      <td>1964-04</td>\n",
       "      <td>2721</td>\n",
       "    </tr>\n",
       "    <tr>\n",
       "      <th>4</th>\n",
       "      <td>1964-05</td>\n",
       "      <td>2946</td>\n",
       "    </tr>\n",
       "  </tbody>\n",
       "</table>\n",
       "</div>"
      ],
      "text/plain": [
       "     Month  Champagne sales\n",
       "0  1964-01             2815\n",
       "1  1964-02             2672\n",
       "2  1964-03             2755\n",
       "3  1964-04             2721\n",
       "4  1964-05             2946"
      ]
     },
     "execution_count": 20,
     "metadata": {},
     "output_type": "execute_result"
    }
   ],
   "source": [
    "#Let's have a look at first five records\n",
    "df.head()"
   ]
  },
  {
   "cell_type": "markdown",
   "id": "c38d5f1b",
   "metadata": {},
   "source": [
    "As we can see , our date is not exactly in pandas dateime format, so we will do parsing(we can do parsing and indexing at the time of making dataframe)"
   ]
  },
  {
   "cell_type": "code",
   "execution_count": 6,
   "id": "1ec50eff",
   "metadata": {},
   "outputs": [
    {
     "data": {
      "text/html": [
       "<div>\n",
       "<style scoped>\n",
       "    .dataframe tbody tr th:only-of-type {\n",
       "        vertical-align: middle;\n",
       "    }\n",
       "\n",
       "    .dataframe tbody tr th {\n",
       "        vertical-align: top;\n",
       "    }\n",
       "\n",
       "    .dataframe thead th {\n",
       "        text-align: right;\n",
       "    }\n",
       "</style>\n",
       "<table border=\"1\" class=\"dataframe\">\n",
       "  <thead>\n",
       "    <tr style=\"text-align: right;\">\n",
       "      <th></th>\n",
       "      <th>Champagne sales</th>\n",
       "    </tr>\n",
       "    <tr>\n",
       "      <th>Month</th>\n",
       "      <th></th>\n",
       "    </tr>\n",
       "  </thead>\n",
       "  <tbody>\n",
       "    <tr>\n",
       "      <th>1964-01-01</th>\n",
       "      <td>2815</td>\n",
       "    </tr>\n",
       "    <tr>\n",
       "      <th>1964-02-01</th>\n",
       "      <td>2672</td>\n",
       "    </tr>\n",
       "    <tr>\n",
       "      <th>1964-03-01</th>\n",
       "      <td>2755</td>\n",
       "    </tr>\n",
       "    <tr>\n",
       "      <th>1964-04-01</th>\n",
       "      <td>2721</td>\n",
       "    </tr>\n",
       "    <tr>\n",
       "      <th>1964-05-01</th>\n",
       "      <td>2946</td>\n",
       "    </tr>\n",
       "  </tbody>\n",
       "</table>\n",
       "</div>"
      ],
      "text/plain": [
       "            Champagne sales\n",
       "Month                      \n",
       "1964-01-01             2815\n",
       "1964-02-01             2672\n",
       "1964-03-01             2755\n",
       "1964-04-01             2721\n",
       "1964-05-01             2946"
      ]
     },
     "execution_count": 6,
     "metadata": {},
     "output_type": "execute_result"
    }
   ],
   "source": [
    "df =  pd.read_csv('Champagne Sales.csv',parse_dates=['Month'],index_col='Month')\n",
    "df.head()"
   ]
  },
  {
   "cell_type": "markdown",
   "id": "3567c77a",
   "metadata": {},
   "source": [
    "#Or we can do it afterwards like\n",
    "\n",
    "#Convert the month column to datetime\n",
    "\n",
    "df['Month']=pd.to_datetime(df['Month'])\n",
    "\n",
    "#Set the index of the Month \n",
    "\n",
    "df.set_index('Month',inplace=True)\n",
    "\n",
    "df.head()\n"
   ]
  },
  {
   "cell_type": "code",
   "execution_count": 8,
   "id": "48a50fa5",
   "metadata": {},
   "outputs": [
    {
     "name": "stdout",
     "output_type": "stream",
     "text": [
      "Performing stepwise search to minimize aic\n",
      " ARIMA(1,0,1)(0,0,0)[0]             : AIC=1952.912, Time=0.04 sec\n",
      " ARIMA(0,0,0)(0,0,0)[0]             : AIC=2104.630, Time=0.01 sec\n",
      " ARIMA(1,0,0)(0,0,0)[0]             : AIC=1951.109, Time=0.01 sec\n",
      " ARIMA(0,0,1)(0,0,0)[0]             : AIC=2012.608, Time=0.06 sec\n",
      " ARIMA(2,0,0)(0,0,0)[0]             : AIC=1952.983, Time=0.03 sec\n",
      " ARIMA(2,0,1)(0,0,0)[0]             : AIC=1949.722, Time=0.06 sec\n",
      " ARIMA(3,0,1)(0,0,0)[0]             : AIC=1947.983, Time=0.08 sec\n",
      " ARIMA(3,0,0)(0,0,0)[0]             : AIC=1950.793, Time=0.04 sec\n",
      " ARIMA(3,0,2)(0,0,0)[0]             : AIC=1926.803, Time=0.33 sec\n",
      " ARIMA(2,0,2)(0,0,0)[0]             : AIC=1926.054, Time=0.24 sec\n",
      " ARIMA(1,0,2)(0,0,0)[0]             : AIC=1925.737, Time=0.21 sec\n",
      " ARIMA(0,0,2)(0,0,0)[0]             : AIC=1998.274, Time=0.15 sec\n",
      " ARIMA(1,0,3)(0,0,0)[0]             : AIC=1926.708, Time=0.22 sec\n",
      " ARIMA(0,0,3)(0,0,0)[0]             : AIC=1966.141, Time=0.14 sec\n",
      " ARIMA(2,0,3)(0,0,0)[0]             : AIC=1927.514, Time=0.29 sec\n",
      " ARIMA(1,0,2)(0,0,0)[0] intercept   : AIC=1922.465, Time=0.06 sec\n",
      " ARIMA(0,0,2)(0,0,0)[0] intercept   : AIC=1920.359, Time=0.04 sec\n",
      " ARIMA(0,0,1)(0,0,0)[0] intercept   : AIC=1918.917, Time=0.06 sec\n",
      " ARIMA(0,0,0)(0,0,0)[0] intercept   : AIC=1948.469, Time=0.01 sec\n",
      " ARIMA(1,0,1)(0,0,0)[0] intercept   : AIC=1922.735, Time=0.04 sec\n",
      " ARIMA(1,0,0)(0,0,0)[0] intercept   : AIC=1925.227, Time=0.02 sec\n",
      "\n",
      "Best model:  ARIMA(0,0,1)(0,0,0)[0] intercept\n",
      "Total fit time: 2.150 seconds\n",
      "                               SARIMAX Results                                \n",
      "==============================================================================\n",
      "Dep. Variable:                      y   No. Observations:                  105\n",
      "Model:               SARIMAX(0, 0, 1)   Log Likelihood                -956.458\n",
      "Date:                Mon, 26 Jul 2021   AIC                           1918.917\n",
      "Time:                        00:06:08   BIC                           1926.878\n",
      "Sample:                             0   HQIC                          1922.143\n",
      "                                - 105                                         \n",
      "Covariance Type:                  opg                                         \n",
      "==============================================================================\n",
      "                 coef    std err          z      P>|z|      [0.025      0.975]\n",
      "------------------------------------------------------------------------------\n",
      "intercept   4618.5045    386.204     11.959      0.000    3861.558    5375.451\n",
      "ma.L1          0.6424      0.069      9.279      0.000       0.507       0.778\n",
      "sigma2      4.707e+06    6.4e+05      7.356      0.000    3.45e+06    5.96e+06\n",
      "===================================================================================\n",
      "Ljung-Box (L1) (Q):                   0.15   Jarque-Bera (JB):                 5.42\n",
      "Prob(Q):                              0.70   Prob(JB):                         0.07\n",
      "Heteroskedasticity (H):               3.86   Skew:                             0.52\n",
      "Prob(H) (two-sided):                  0.00   Kurtosis:                         3.39\n",
      "===================================================================================\n",
      "\n",
      "Warnings:\n",
      "[1] Covariance matrix calculated using the outer product of gradients (complex-step).\n"
     ]
    }
   ],
   "source": [
    "# Now, let's run auto arima and print the summary\n",
    "model = pm.auto_arima(df['Champagne sales'], start_p=1, start_q=1,\n",
    "                      test='adf',       # use adftest to find optimal 'd'\n",
    "                      max_p=3, max_q=3, # maximum p and q\n",
    "                      m=1,              # frequency of series\n",
    "                      d=None,           # let model determine 'd'\n",
    "                      seasonal=False,   # No Seasonality\n",
    "                      start_P=0, \n",
    "                      D=0, \n",
    "                      trace=True,\n",
    "                      error_action='ignore',  \n",
    "                      suppress_warnings=True, \n",
    "                      stepwise=True)\n",
    "print(model.summary())"
   ]
  },
  {
   "cell_type": "markdown",
   "id": "22cc7e35",
   "metadata": {},
   "source": [
    "We can see that the best model is ARIMA(0,0,1)(0,0,0)[0] . The AIC is calculated as 1918.917"
   ]
  },
  {
   "cell_type": "code",
   "execution_count": 9,
   "id": "d3bed970",
   "metadata": {},
   "outputs": [
    {
     "data": {
      "image/png": "[encoded data removed]",
      "text/plain": [
       "<Figure size 504x360 with 4 Axes>"
      ]
     },
     "metadata": {
      "needs_background": "light"
     },
     "output_type": "display_data"
    }
   ],
   "source": [
    "#Let’s review the residual plots using stepwise_fit.\n",
    "\n",
    "model.plot_diagnostics(figsize=(7,5))\n",
    "plt.show()"
   ]
  },
  {
   "cell_type": "code",
   "execution_count": 25,
   "id": "e4ba63f9",
   "metadata": {},
   "outputs": [
    {
     "data": {
      "image/png": "[encoded data removed]",
      "text/plain": [
       "<Figure size 432x288 with 1 Axes>"
      ]
     },
     "metadata": {
      "needs_background": "light"
     },
     "output_type": "display_data"
    }
   ],
   "source": [
    "# Forecast\n",
    "n_periods = 24\n",
    "fc, confint = model.predict(n_periods=n_periods, return_conf_int=True)\n",
    "index_of_fc = np.arange(len(df['Champagne sales']), len(df['Champagne sales'])+n_periods)\n",
    "\n",
    "# make series for plotting purpose\n",
    "fc_series = pd.Series(fc, index=index_of_fc)\n",
    "lower_series = pd.Series(confint[:, 0], index=index_of_fc)\n",
    "upper_series = pd.Series(confint[:, 1], index=index_of_fc)\n",
    "\n",
    "# Plot\n",
    "plt.plot(df['Champagne sales'])\n",
    "plt.plot(fc_series, color='darkgreen')\n",
    "plt.fill_between(lower_series.index, \n",
    "                 lower_series, \n",
    "                 upper_series, \n",
    "                 color='k', alpha=.15)\n",
    "\n",
    "plt.title(\"Final Forecast\")\n",
    "plt.show()"
   ]
  },
  {
   "cell_type": "code",
   "execution_count": 32,
   "id": "bd02ef5e",
   "metadata": {},
   "outputs": [],
   "source": [
    "#Let's evaluate our auto arima model and calculate rmse metric\n",
    "\n",
    "def evaluate_auto_arima(df):\n",
    "    \n",
    "    train_len = int(len(df)*0.80)\n",
    "    #print(train_len)\n",
    "    train = df[0:train_len]\n",
    "\n",
    "    test = df[train_len:]\n",
    "    col=train.columns\n",
    "\n",
    "    # AUTO ARIMA \n",
    "    #model = ARIMA(train,order=ord)\n",
    "    model = pm.auto_arima(df['Champagne sales'], start_p=1, start_q=1,\n",
    "                      test='adf',       # use adftest to find optimal 'd'\n",
    "                      max_p=3, max_q=3, # maximum p and q\n",
    "                      m=1,              # frequency of series\n",
    "                      d=None,           # let model determine 'd'\n",
    "                      seasonal=False,   # No Seasonality\n",
    "                      start_P=0, \n",
    "                      D=0, \n",
    "                      trace=True,\n",
    "                      error_action='ignore',  \n",
    "                      suppress_warnings=True, \n",
    "                      stepwise=True)\n",
    "    #print(model.summary())\n",
    "    # Fit model\n",
    "    mf = model.fit(y=train,disp=0)\n",
    "    \n",
    "    #forecast\n",
    "    fc  = pd.DataFrame(model.predict(n_periods=len(test),alpha=0.05),index=test.index)\n",
    "    fc.columns=[\"Champagne sales\"]\n",
    "    #print(fc)\n",
    "    #print(test)\n",
    "    # RMSE\n",
    "    rmse = np.mean((fc - test)**2)**.5  \n",
    "    \n",
    "    return rmse"
   ]
  },
  {
   "cell_type": "code",
   "execution_count": 34,
   "id": "8dc862d8",
   "metadata": {},
   "outputs": [
    {
     "name": "stdout",
     "output_type": "stream",
     "text": [
      "Performing stepwise search to minimize aic\n",
      " ARIMA(1,0,1)(0,0,0)[0]             : AIC=1952.912, Time=0.03 sec\n",
      " ARIMA(0,0,0)(0,0,0)[0]             : AIC=2104.630, Time=0.01 sec\n",
      " ARIMA(1,0,0)(0,0,0)[0]             : AIC=1951.109, Time=0.01 sec\n",
      " ARIMA(0,0,1)(0,0,0)[0]             : AIC=2012.608, Time=0.06 sec\n",
      " ARIMA(2,0,0)(0,0,0)[0]             : AIC=1952.983, Time=0.02 sec\n",
      " ARIMA(2,0,1)(0,0,0)[0]             : AIC=1949.722, Time=0.05 sec\n",
      " ARIMA(3,0,1)(0,0,0)[0]             : AIC=1947.983, Time=0.08 sec\n",
      " ARIMA(3,0,0)(0,0,0)[0]             : AIC=1950.793, Time=0.04 sec\n",
      " ARIMA(3,0,2)(0,0,0)[0]             : AIC=1926.803, Time=0.32 sec\n",
      " ARIMA(2,0,2)(0,0,0)[0]             : AIC=1926.054, Time=0.23 sec\n",
      " ARIMA(1,0,2)(0,0,0)[0]             : AIC=1925.737, Time=0.21 sec\n",
      " ARIMA(0,0,2)(0,0,0)[0]             : AIC=1998.274, Time=0.14 sec\n",
      " ARIMA(1,0,3)(0,0,0)[0]             : AIC=1926.708, Time=0.22 sec\n",
      " ARIMA(0,0,3)(0,0,0)[0]             : AIC=1966.141, Time=0.13 sec\n",
      " ARIMA(2,0,3)(0,0,0)[0]             : AIC=1927.514, Time=0.30 sec\n",
      " ARIMA(1,0,2)(0,0,0)[0] intercept   : AIC=1922.465, Time=0.06 sec\n",
      " ARIMA(0,0,2)(0,0,0)[0] intercept   : AIC=1920.359, Time=0.04 sec\n",
      " ARIMA(0,0,1)(0,0,0)[0] intercept   : AIC=1918.917, Time=0.07 sec\n",
      " ARIMA(0,0,0)(0,0,0)[0] intercept   : AIC=1948.469, Time=0.01 sec\n",
      " ARIMA(1,0,1)(0,0,0)[0] intercept   : AIC=1922.735, Time=0.04 sec\n",
      " ARIMA(1,0,0)(0,0,0)[0] intercept   : AIC=1925.227, Time=0.02 sec\n",
      "\n",
      "Best model:  ARIMA(0,0,1)(0,0,0)[0] intercept\n",
      "Total fit time: 2.102 seconds\n",
      "Root Mean Square Value :  Champagne sales    2585.716564\n",
      "dtype: float64\n"
     ]
    }
   ],
   "source": [
    "rmse=evaluate_auto_arima(df)\n",
    "print(\"Root Mean Square Value : \",rmse)"
   ]
  },
  {
   "cell_type": "code",
   "execution_count": null,
   "id": "0f4ec41a",
   "metadata": {},
   "outputs": [],
   "source": []
  }
 ],
 "metadata": {
  "interpreter": {
   "hash": "6eded746d7c113b26b2fcf0f8cab99d2c7299468da7f6eea6867dce57ec4ff6a"
  },
  "kernelspec": {
   "display_name": "Python 3",
   "language": "python",
   "name": "python3"
  },
  "language_info": {
   "codemirror_mode": {
    "name": "ipython",
    "version": 3
   },
   "file_extension": ".py",
   "mimetype": "text/x-python",
   "name": "python",
   "nbconvert_exporter": "python",
   "pygments_lexer": "ipython3",
   "version": "3.9.5"
  }
 },
 "nbformat": 4,
 "nbformat_minor": 5
}
